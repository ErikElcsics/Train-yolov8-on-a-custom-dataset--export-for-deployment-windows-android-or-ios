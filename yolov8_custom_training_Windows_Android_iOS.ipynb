{
  "cells": [
    {
      "cell_type": "markdown",
      "metadata": {
        "id": "pwjlDs9gvcSU"
      },
      "source": [
        "# Train YOLOv8 on a Custom Dataset & Export for Deployment Windows, Android, or iOS - Erik Elcsics\n",
        "\n",
        "This notebook will guide you through training a YOLOv8 model on your own dataset, step by step. It’s beginner-friendly and ends with exporting the trained model for use on Windows, Android, or iOS. - Erik Elcsics"
      ],
      "id": "pwjlDs9gvcSU"
    },
    {
      "cell_type": "code",
      "metadata": {
        "id": "WeWlWASzvcSU"
      },
      "source": [
        "# 1. Install YOLOv8 (Ultralytics)\n",
        "# This installs the Ultralytics package, which includes everything you need to train and use YOLOv8\n",
        "!pip install -q ultralytics\n",
        "from ultralytics import YOLO"
      ],
      "id": "WeWlWASzvcSU",
      "execution_count": null,
      "outputs": []
    },
    {
      "cell_type": "code",
      "metadata": {
        "id": "c27WxcBVvcSV"
      },
      "source": [
        "# 2. Prepare Dataset in YOLO Format\n",
        "\n",
        "\"\"\"\n",
        "Your dataset must follow a specific folder structure:\n",
        "\n",
        "/dataset\n",
        "  /images\n",
        "    /train  -> training images (e.g., image1.jpg)\n",
        "    /val    -> validation images\n",
        "  /labels\n",
        "    /train  -> corresponding labels (e.g., image1.txt)\n",
        "    /val\n",
        "\n",
        "Each .txt file should contain lines like:\n",
        "<class_id> <x_center> <y_center> <width> <height> (values normalized between 0 and 1)\n",
        "\"\"\"\n",
        "\n",
        "import os\n",
        "\n",
        "# Create folders if they don't already exist\n",
        "os.makedirs('data/images/train', exist_ok=True)\n",
        "os.makedirs('data/images/val', exist_ok=True)\n",
        "os.makedirs('data/labels/train', exist_ok=True)\n",
        "os.makedirs('data/labels/val', exist_ok=True)"
      ],
      "id": "c27WxcBVvcSV",
      "execution_count": null,
      "outputs": []
    },
    {
      "cell_type": "markdown",
      "metadata": {
        "id": "j77dey_BvcSV"
      },
      "source": [
        "### 3. Create the dataset.yaml Config File\n",
        "\n",
        "YOLOv8 needs a YAML file that tells it where to find the training/validation images and what the class names are.\n",
        "\n",
        "Save this as `data.yaml` in the root of your project:"
      ],
      "id": "j77dey_BvcSV"
    },
    {
      "cell_type": "code",
      "metadata": {
        "id": "j-jlXlgHvcSV"
      },
      "source": [
        "# This is just to show the YAML format – you need to save it as data.yaml manually or using code.\n",
        "print(\"\"\"train: data/images/train\n",
        "val: data/images/val\n",
        "\n",
        "nc: 2\n",
        "names: ['cat', 'dog']\n",
        "\"\"\")"
      ],
      "id": "j-jlXlgHvcSV",
      "execution_count": null,
      "outputs": []
    },
    {
      "cell_type": "code",
      "metadata": {
        "id": "-xVizTcIvcSV"
      },
      "source": [
        "#  4. Train the YOLOv8 Model\n",
        "\n",
        "# YOLOv8n is the smallest model and fastest to train (good for testing and limited hardware).\n",
        "model = YOLO(\"yolov8n.pt\")  # Options: yolov8n.pt, yolov8s.pt, etc.\n",
        "\n",
        "# Start training\n",
        "results = model.train(\n",
        "    data=\"data.yaml\",   # Path to the dataset config file\n",
        "    epochs=50,          # Number of times the model will see the entire dataset\n",
        "    imgsz=640,          # Image size (can affect accuracy and speed)\n",
        "    batch=16,           # How many images to train on at once\n",
        "    name=\"custom_yolov8_model\"  # Folder where results will be saved\n",
        ")"
      ],
      "id": "-xVizTcIvcSV",
      "execution_count": null,
      "outputs": []
    },
    {
      "cell_type": "code",
      "metadata": {
        "id": "SaEmNPS5vcSV"
      },
      "source": [
        "#  5. Visualize Training Results\n",
        "# This will display charts showing how well the model trained (accuracy, loss, etc.)\n",
        "results.plot()"
      ],
      "id": "SaEmNPS5vcSV",
      "execution_count": null,
      "outputs": []
    },
    {
      "cell_type": "code",
      "metadata": {
        "id": "NKFbr-pivcSV"
      },
      "source": [
        "#  6. Run Inference on Test Images\n",
        "# Now use your trained model to make predictions on validation images\n",
        "model = YOLO(\"runs/detect/custom_yolov8_model/weights/best.pt\")\n",
        "results = model.predict(source=\"data/images/val\", save=True, conf=0.25)  # conf is confidence threshold"
      ],
      "id": "NKFbr-pivcSV",
      "execution_count": null,
      "outputs": []
    },
    {
      "cell_type": "code",
      "metadata": {
        "id": "Icu07SmFvcSW"
      },
      "source": [
        "#  7. View Predictions Inline\n",
        "# This displays the prediction results from your validation/test images\n",
        "import glob\n",
        "from IPython.display import Image, display\n",
        "\n",
        "predicted_images = glob.glob('runs/detect/predict/*.jpg')\n",
        "for img_path in predicted_images:\n",
        "    display(Image(filename=img_path))"
      ],
      "id": "Icu07SmFvcSW",
      "execution_count": null,
      "outputs": []
    },
    {
      "cell_type": "code",
      "metadata": {
        "id": "TPpliABIvcSW"
      },
      "source": [
        "#  8. Export Model for Deployment\n",
        "# Export to formats suitable for Windows (ONNX), Android (TFLite), and iOS (CoreML)\n",
        "model.export(format=\"onnx\")      # Windows PC or general desktop use\n",
        "model.export(format=\"tflite\")    # Android\n",
        "model.export(format=\"coreml\")    # iPhone/iOS"
      ],
      "id": "TPpliABIvcSW",
      "execution_count": null,
      "outputs": []
    },
    {
      "cell_type": "code",
      "metadata": {
        "id": "j5HGdyFCvcSW"
      },
      "source": [
        "#  Optional: Download exported models from Colab to your local machine\n",
        "from google.colab import files\n",
        "\n",
        "files.download(\"runs/detect/custom_yolov8_model/weights/best.onnx\")\n",
        "files.download(\"runs/detect/custom_yolov8_model/weights/best.tflite\")\n",
        "files.download(\"runs/detect/custom_yolov8_model/weights/best.mlmodel\")"
      ],
      "id": "j5HGdyFCvcSW",
      "execution_count": null,
      "outputs": []
    }
  ],
  "metadata": {
    "kernelspec": {
      "display_name": "Python 3",
      "language": "python",
      "name": "python3"
    },
    "language_info": {
      "name": "python",
      "version": "3.10"
    },
    "colab": {
      "provenance": []
    }
  },
  "nbformat": 4,
  "nbformat_minor": 5
}